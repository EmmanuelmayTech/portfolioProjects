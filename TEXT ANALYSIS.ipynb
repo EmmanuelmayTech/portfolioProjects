{
 "cells": [
  {
   "cell_type": "markdown",
   "id": "45e842a6-feb3-48e1-b043-81f7310be171",
   "metadata": {},
   "source": [
    "WORDS IN TEXT"
   ]
  },
  {
   "cell_type": "code",
   "execution_count": 1,
   "id": "2b2d3177-4af9-431f-a354-2de10026e429",
   "metadata": {},
   "outputs": [],
   "source": [
    "from pathlib import Path\n",
    "from textblob import TextBlob\n",
    "blob = TextBlob(Path(\"RomeoAndJuliet.txt\").read_text(encoding='utf-8'))"
   ]
  },
  {
   "cell_type": "code",
   "execution_count": 2,
   "id": "0bb7dcae-7b32-4603-9112-145a206c7f8a",
   "metadata": {},
   "outputs": [
    {
     "data": {
      "text/plain": [
       "194"
      ]
     },
     "execution_count": 2,
     "metadata": {},
     "output_type": "execute_result"
    }
   ],
   "source": [
    "#lets get the frequency of seveal key words\n",
    "blob.word_counts['juliet']"
   ]
  },
  {
   "cell_type": "code",
   "execution_count": 3,
   "id": "978e5bc1-2b87-473b-a3fb-ab2a21e1c31c",
   "metadata": {},
   "outputs": [
    {
     "data": {
      "text/plain": [
       "319"
      ]
     },
     "execution_count": 3,
     "metadata": {},
     "output_type": "execute_result"
    }
   ],
   "source": [
    "blob.word_counts['romeo']"
   ]
  },
  {
   "cell_type": "code",
   "execution_count": 4,
   "id": "0f821576-4595-4229-9b6b-a3d5ed2c17a0",
   "metadata": {},
   "outputs": [
    {
     "data": {
      "text/plain": [
       "278"
      ]
     },
     "execution_count": 4,
     "metadata": {},
     "output_type": "execute_result"
    }
   ],
   "source": [
    "blob.word_counts['thou']"
   ]
  },
  {
   "cell_type": "code",
   "execution_count": 5,
   "id": "b2858ba6-096d-4574-9b58-4650fa05e2f5",
   "metadata": {},
   "outputs": [
    {
     "data": {
      "text/plain": [
       "14"
      ]
     },
     "execution_count": 5,
     "metadata": {},
     "output_type": "execute_result"
    }
   ],
   "source": [
    "#if you tokenize text into a wordlist you can use count methood to count number of occurences for specific words\n",
    "blob.words.count('joy')"
   ]
  },
  {
   "cell_type": "code",
   "execution_count": 6,
   "id": "7a15f836-f810-430d-9bbd-214ab3f26ebf",
   "metadata": {},
   "outputs": [
    {
     "data": {
      "text/plain": [
       "46"
      ]
     },
     "execution_count": 6,
     "metadata": {},
     "output_type": "execute_result"
    }
   ],
   "source": [
    "blob.noun_phrases.count('lady capulet')"
   ]
  },
  {
   "cell_type": "code",
   "execution_count": 7,
   "id": "1db6550c-65ff-42f8-9ea7-d5de17fd532f",
   "metadata": {},
   "outputs": [
    {
     "data": {
      "text/plain": [
       "['enjoying or showing or marked by joy or pleasure',\n",
       " 'marked by good fortune',\n",
       " 'eagerly disposed to act or to be of service',\n",
       " 'well expressed and to the point']"
      ]
     },
     "execution_count": 7,
     "metadata": {},
     "output_type": "execute_result"
    }
   ],
   "source": [
    "#getting definitions synonyms ands antonyms from wordnet\n",
    "from textblob import Word\n",
    "happy = Word('happy')\n",
    "happy.definitions"
   ]
  },
  {
   "cell_type": "code",
   "execution_count": 8,
   "id": "9012b90c-e158-49a9-8f55-3ff9a500e0ef",
   "metadata": {},
   "outputs": [
    {
     "data": {
      "text/plain": [
       "[Synset('happy.a.01'),\n",
       " Synset('felicitous.s.02'),\n",
       " Synset('glad.s.02'),\n",
       " Synset('happy.s.04')]"
      ]
     },
     "execution_count": 8,
     "metadata": {},
     "output_type": "execute_result"
    }
   ],
   "source": [
    "#getting synonyms using synsets\n",
    "happy.synsets"
   ]
  },
  {
   "cell_type": "code",
   "execution_count": 9,
   "id": "6901930a-ad95-4da8-9813-b899d854cba2",
   "metadata": {},
   "outputs": [
    {
     "data": {
      "text/plain": [
       "{'felicitous', 'glad', 'happy', 'well-chosen'}"
      ]
     },
     "execution_count": 9,
     "metadata": {},
     "output_type": "execute_result"
    }
   ],
   "source": [
    "#creating a set of synonyms using a synsets lemmas method which returns a list of lemma objects representing the synonyms\n",
    "synonyms = set()\n",
    "for synset in happy.synsets:\n",
    "    for lemma in synset.lemmas():\n",
    "        synonyms.add(lemma.name())\n",
    "\n",
    "synonyms"
   ]
  },
  {
   "cell_type": "code",
   "execution_count": 10,
   "id": "34855e31-353e-41d7-aee1-60240c164947",
   "metadata": {},
   "outputs": [
    {
     "name": "stderr",
     "output_type": "stream",
     "text": [
      "[nltk_data] Downloading package stopwords to\n",
      "[nltk_data]     C:\\Users\\ADMIN\\AppData\\Roaming\\nltk_data...\n",
      "[nltk_data]   Package stopwords is already up-to-date!\n"
     ]
    },
    {
     "data": {
      "text/plain": [
       "True"
      ]
     },
     "execution_count": 10,
     "metadata": {},
     "output_type": "execute_result"
    }
   ],
   "source": [
    "#deleting stop words\n",
    "import nltk\n",
    "nltk.download('stopwords')"
   ]
  },
  {
   "cell_type": "code",
   "execution_count": 11,
   "id": "4e95290f-6aa9-41e5-90c4-ecf66bcb04c8",
   "metadata": {},
   "outputs": [],
   "source": [
    "from nltk.corpus import stopwords\n",
    "stops = stopwords.words('english')"
   ]
  },
  {
   "cell_type": "code",
   "execution_count": 12,
   "id": "0a8f1099-a85a-4f1e-a277-de00567447e0",
   "metadata": {},
   "outputs": [],
   "source": [
    "#now lets create a textblob from which we reove stop words \n",
    "blob = TextBlob('Today is a beautiful day.')"
   ]
  },
  {
   "cell_type": "code",
   "execution_count": 13,
   "id": "7df9b499-e363-46ad-a9b0-ff40cabc9148",
   "metadata": {},
   "outputs": [
    {
     "data": {
      "text/plain": [
       "['Today', 'beautiful', 'day']"
      ]
     },
     "execution_count": 13,
     "metadata": {},
     "output_type": "execute_result"
    }
   ],
   "source": [
    "[word for word in blob.words if word not in stops]"
   ]
  },
  {
   "cell_type": "code",
   "execution_count": 14,
   "id": "8dcf0461-6087-4954-8ba7-1bfeaa04eb6f",
   "metadata": {},
   "outputs": [],
   "source": [
    "text = 'Today is a beautiful day. Tomorrow looks like bad weather.'\n",
    "blob = TextBlob(text)"
   ]
  },
  {
   "cell_type": "code",
   "execution_count": 15,
   "id": "65f0d2cb-0ce0-4168-a91b-5b69c3a1c0b2",
   "metadata": {},
   "outputs": [
    {
     "data": {
      "text/plain": [
       "TextBlob(\"Today is a beautiful day. Tomorrow looks like bad weather.\")"
      ]
     },
     "execution_count": 15,
     "metadata": {},
     "output_type": "execute_result"
    }
   ],
   "source": [
    "blob"
   ]
  },
  {
   "cell_type": "code",
   "execution_count": 16,
   "id": "5f1e3007-0912-4dfa-9230-f9327706b03c",
   "metadata": {},
   "outputs": [
    {
     "data": {
      "text/plain": [
       "[WordList(['Today', 'is', 'a']),\n",
       " WordList(['is', 'a', 'beautiful']),\n",
       " WordList(['a', 'beautiful', 'day']),\n",
       " WordList(['beautiful', 'day', 'Tomorrow']),\n",
       " WordList(['day', 'Tomorrow', 'looks']),\n",
       " WordList(['Tomorrow', 'looks', 'like']),\n",
       " WordList(['looks', 'like', 'bad']),\n",
       " WordList(['like', 'bad', 'weather'])]"
      ]
     },
     "execution_count": 16,
     "metadata": {},
     "output_type": "execute_result"
    }
   ],
   "source": [
    "blob.ngrams()"
   ]
  },
  {
   "cell_type": "code",
   "execution_count": 17,
   "id": "babe0077-095a-4578-85a0-79dad2514456",
   "metadata": {},
   "outputs": [
    {
     "data": {
      "text/plain": [
       "[WordList(['Today', 'is', 'a', 'beautiful', 'day']),\n",
       " WordList(['is', 'a', 'beautiful', 'day', 'Tomorrow']),\n",
       " WordList(['a', 'beautiful', 'day', 'Tomorrow', 'looks']),\n",
       " WordList(['beautiful', 'day', 'Tomorrow', 'looks', 'like']),\n",
       " WordList(['day', 'Tomorrow', 'looks', 'like', 'bad']),\n",
       " WordList(['Tomorrow', 'looks', 'like', 'bad', 'weather'])]"
      ]
     },
     "execution_count": 17,
     "metadata": {},
     "output_type": "execute_result"
    }
   ],
   "source": [
    "blob.ngrams(n=5)"
   ]
  },
  {
   "cell_type": "code",
   "execution_count": 18,
   "id": "60476f47-29a5-49c8-9eac-d210ab8514a4",
   "metadata": {},
   "outputs": [],
   "source": [
    "#VISUALIZING WORD FREQUENCIES WITH BAR CHARTS AND WORD CLOUDS\n",
    "#1. LOAD THE DATA\n",
    "from pathlib import Path\n",
    "from textblob import TextBlob\n",
    "blob = TextBlob(Path(\"RomeoAndJuliet.txt\").read_text(encoding='utf-8'))"
   ]
  },
  {
   "cell_type": "code",
   "execution_count": 19,
   "id": "e2d82e1b-9800-4bb6-9cc0-2e02610e1b74",
   "metadata": {},
   "outputs": [],
   "source": [
    "#2 LOAD THE NLTK STOP WORDS\n",
    "from nltk.corpus import stopwords\n",
    "stop_words = stopwords.words('english')"
   ]
  },
  {
   "cell_type": "code",
   "execution_count": 20,
   "id": "4bf5d467-a94b-45a4-a375-60566279dbb3",
   "metadata": {},
   "outputs": [],
   "source": [
    "#getting the word frequencies\n",
    "items = blob.word_counts.items()\n"
   ]
  },
  {
   "cell_type": "code",
   "execution_count": 21,
   "id": "42f7e4b2-16ad-493b-b4f3-57e0776f92f8",
   "metadata": {},
   "outputs": [],
   "source": [
    "#using a list comprehension to eliminate any tuple with a stop word in it\n",
    "items = [ item for item in items if item[0] not in stop_words]"
   ]
  },
  {
   "cell_type": "code",
   "execution_count": 22,
   "id": "cc97fe60-44dc-4a07-8ae1-54af68272a26",
   "metadata": {},
   "outputs": [],
   "source": [
    "#SORTING THE WORDS BY FREQUENCY\n",
    "from operator import itemgetter\n",
    "\n",
    "sorted_items = sorted(items, key = itemgetter(1), reverse = True)"
   ]
  },
  {
   "cell_type": "code",
   "execution_count": 23,
   "id": "24f6eb58-147f-40bf-aeb7-e540a4c3e141",
   "metadata": {},
   "outputs": [],
   "source": [
    "#use a slice to get the top 20\n",
    "top20 = sorted_items[1:21]"
   ]
  },
  {
   "cell_type": "code",
   "execution_count": 24,
   "id": "1ede46a2-55cb-4538-97ea-8560d33f1aaf",
   "metadata": {},
   "outputs": [
    {
     "data": {
      "text/html": [
       "<div>\n",
       "<style scoped>\n",
       "    .dataframe tbody tr th:only-of-type {\n",
       "        vertical-align: middle;\n",
       "    }\n",
       "\n",
       "    .dataframe tbody tr th {\n",
       "        vertical-align: top;\n",
       "    }\n",
       "\n",
       "    .dataframe thead th {\n",
       "        text-align: right;\n",
       "    }\n",
       "</style>\n",
       "<table border=\"1\" class=\"dataframe\">\n",
       "  <thead>\n",
       "    <tr style=\"text-align: right;\">\n",
       "      <th></th>\n",
       "      <th>word</th>\n",
       "      <th>count</th>\n",
       "    </tr>\n",
       "  </thead>\n",
       "  <tbody>\n",
       "    <tr>\n",
       "      <th>0</th>\n",
       "      <td>romeo</td>\n",
       "      <td>319</td>\n",
       "    </tr>\n",
       "    <tr>\n",
       "      <th>1</th>\n",
       "      <td>thou</td>\n",
       "      <td>278</td>\n",
       "    </tr>\n",
       "    <tr>\n",
       "      <th>2</th>\n",
       "      <td>juliet</td>\n",
       "      <td>194</td>\n",
       "    </tr>\n",
       "    <tr>\n",
       "      <th>3</th>\n",
       "      <td>thy</td>\n",
       "      <td>170</td>\n",
       "    </tr>\n",
       "    <tr>\n",
       "      <th>4</th>\n",
       "      <td>capulet</td>\n",
       "      <td>163</td>\n",
       "    </tr>\n",
       "    <tr>\n",
       "      <th>5</th>\n",
       "      <td>nurse</td>\n",
       "      <td>149</td>\n",
       "    </tr>\n",
       "    <tr>\n",
       "      <th>6</th>\n",
       "      <td>love</td>\n",
       "      <td>148</td>\n",
       "    </tr>\n",
       "    <tr>\n",
       "      <th>7</th>\n",
       "      <td>thee</td>\n",
       "      <td>138</td>\n",
       "    </tr>\n",
       "    <tr>\n",
       "      <th>8</th>\n",
       "      <td>lady</td>\n",
       "      <td>117</td>\n",
       "    </tr>\n",
       "    <tr>\n",
       "      <th>9</th>\n",
       "      <td>shall</td>\n",
       "      <td>112</td>\n",
       "    </tr>\n",
       "    <tr>\n",
       "      <th>10</th>\n",
       "      <td>friar</td>\n",
       "      <td>105</td>\n",
       "    </tr>\n",
       "    <tr>\n",
       "      <th>11</th>\n",
       "      <td>come</td>\n",
       "      <td>95</td>\n",
       "    </tr>\n",
       "    <tr>\n",
       "      <th>12</th>\n",
       "      <td>project</td>\n",
       "      <td>89</td>\n",
       "    </tr>\n",
       "    <tr>\n",
       "      <th>13</th>\n",
       "      <td>mercutio</td>\n",
       "      <td>88</td>\n",
       "    </tr>\n",
       "    <tr>\n",
       "      <th>14</th>\n",
       "      <td>lawrence</td>\n",
       "      <td>82</td>\n",
       "    </tr>\n",
       "    <tr>\n",
       "      <th>15</th>\n",
       "      <td>good</td>\n",
       "      <td>80</td>\n",
       "    </tr>\n",
       "    <tr>\n",
       "      <th>16</th>\n",
       "      <td>benvolio</td>\n",
       "      <td>79</td>\n",
       "    </tr>\n",
       "    <tr>\n",
       "      <th>17</th>\n",
       "      <td>tybalt</td>\n",
       "      <td>79</td>\n",
       "    </tr>\n",
       "    <tr>\n",
       "      <th>18</th>\n",
       "      <td>enter</td>\n",
       "      <td>75</td>\n",
       "    </tr>\n",
       "    <tr>\n",
       "      <th>19</th>\n",
       "      <td>go</td>\n",
       "      <td>75</td>\n",
       "    </tr>\n",
       "  </tbody>\n",
       "</table>\n",
       "</div>"
      ],
      "text/plain": [
       "        word  count\n",
       "0      romeo    319\n",
       "1       thou    278\n",
       "2     juliet    194\n",
       "3        thy    170\n",
       "4    capulet    163\n",
       "5      nurse    149\n",
       "6       love    148\n",
       "7       thee    138\n",
       "8       lady    117\n",
       "9      shall    112\n",
       "10     friar    105\n",
       "11      come     95\n",
       "12   project     89\n",
       "13  mercutio     88\n",
       "14  lawrence     82\n",
       "15      good     80\n",
       "16  benvolio     79\n",
       "17    tybalt     79\n",
       "18     enter     75\n",
       "19        go     75"
      ]
     },
     "execution_count": 24,
     "metadata": {},
     "output_type": "execute_result"
    }
   ],
   "source": [
    "#convert top 20 to a dataframe\n",
    "import pandas as pd\n",
    "df = pd.DataFrame(top20, columns = ['word', 'count'])\n",
    "df"
   ]
  },
  {
   "cell_type": "code",
   "execution_count": 25,
   "id": "246c4e32-a94f-422e-a1a1-a76751dfde5e",
   "metadata": {},
   "outputs": [
    {
     "data": {
      "image/png": "[encoded data removed]",
      "text/plain": [
       "<Figure size 640x480 with 1 Axes>"
      ]
     },
     "metadata": {},
     "output_type": "display_data"
    }
   ],
   "source": [
    "#VISUALIZING THE DATA\n",
    "axes = df.plot.bar( x = 'word', y = 'count', legend = False)"
   ]
  },
  {
   "cell_type": "code",
   "execution_count": 26,
   "id": "9544ae13-83ec-4cf8-91ea-61ac4c37df1a",
   "metadata": {},
   "outputs": [],
   "source": [
    "#visualizing word frequencies with the open source wordcloud module\n",
    "#first load the data \n",
    "from pathlib import Path\n",
    "from textblob import TextBlob\n",
    "text = Path('RomeoAndJuliet.txt').read_text(encoding = 'utf-8')\n"
   ]
  },
  {
   "cell_type": "code",
   "execution_count": 27,
   "id": "30fa5652-9bb4-44cc-a434-1ede19ea817b",
   "metadata": {},
   "outputs": [],
   "source": [
    "#loading the mask image that specifies the word cloud shape\n",
    "#lets load mask image with the imread function from the imageio module that comes with anaconda\n",
    "import imageio.v2 as imageio\n",
    "mask_image = imageio.imread('mask_heart.png')\n",
    "#this function retuns the image  by using the imread as a numpy array, which is required by word cloud\n"
   ]
  },
  {
   "cell_type": "code",
   "execution_count": 28,
   "id": "86a11769-64b3-422c-8fde-ffa3f3accbb2",
   "metadata": {},
   "outputs": [],
   "source": [
    "#configuring the word count object\n",
    "from wordcloud import WordCloud\n",
    "wordcloud = WordCloud(colormap= 'prism', mask = mask_image, \n",
    "                      background_color = 'white')\n"
   ]
  },
  {
   "cell_type": "code",
   "execution_count": 29,
   "id": "1e706f7f-17eb-480a-9f00-5c5c60985091",
   "metadata": {},
   "outputs": [
    {
     "data": {
      "text/plain": [
       "<wordcloud.wordcloud.WordCloud at 0x2928e4c9b90>"
      ]
     },
     "execution_count": 29,
     "metadata": {},
     "output_type": "execute_result"
    }
   ],
   "source": [
    "#generating the word cloud \n",
    "wordcloud= wordcloud.generate(text)\n",
    "wordcloud"
   ]
  },
  {
   "cell_type": "code",
   "execution_count": 30,
   "id": "774ee365-fb34-4ad2-8ccc-7db96b872bd7",
   "metadata": {},
   "outputs": [],
   "source": [
    "#SAVING THE WORD CLOUD AS AN IMAGE FILE\n",
    "wordcloud = wordcloud.to_file('RomeoAndJulietHeart.png')"
   ]
  },
  {
   "cell_type": "code",
   "execution_count": 31,
   "id": "d6513c9a-8d1e-410f-aa10-e4d3c5770d60",
   "metadata": {},
   "outputs": [
    {
     "data": {
      "text/plain": [
       "<matplotlib.image.AxesImage at 0x2928c335510>"
      ]
     },
     "execution_count": 31,
     "metadata": {},
     "output_type": "execute_result"
    },
    {
     "data": {
      "image/png": "[encoded data removed]",
      "text/plain": [
       "<Figure size 640x480 with 1 Axes>"
      ]
     },
     "metadata": {},
     "output_type": "display_data"
    }
   ],
   "source": [
    "#DISPLAYING THE IMAGE WITH MATPLOTLIB\n",
    "import matplotlib.pyplot as plt\n",
    "plt.imshow(wordcloud)"
   ]
  },
  {
   "cell_type": "code",
   "execution_count": null,
   "id": "5be1546b-dbfb-49f8-9353-b8cf962706be",
   "metadata": {},
   "outputs": [],
   "source": []
  },
  {
   "cell_type": "code",
   "execution_count": 32,
   "id": "68fcf669-f7c4-4c4f-ad44-ab6d8931e3cc",
   "metadata": {},
   "outputs": [],
   "source": [
    "#GENERATING A WORD CLOUD FROM A DICTIONARY"
   ]
  },
  {
   "cell_type": "code",
   "execution_count": 33,
   "id": "baa0270e-537e-4da1-bb00-3f5ca1dba6f3",
   "metadata": {},
   "outputs": [],
   "source": [
    "#READABILITY ASSESSMENT WITH TEXTATISTIC\n",
    "#load text\n",
    "from pathlib import Path\n",
    "from textblob import TextBlob\n",
    "text = Path('RomeoAndJuliet.txt').read_text(encoding = 'utf-8')"
   ]
  },
  {
   "cell_type": "code",
   "execution_count": 34,
   "id": "72b00831-9102-412c-acaa-9bec864145ff",
   "metadata": {},
   "outputs": [],
   "source": [
    "from textatistic import Textatistic\n",
    "readability = Textatistic(text)"
   ]
  },
  {
   "cell_type": "code",
   "execution_count": 35,
   "id": "b3ca0e13-5cd7-409f-88ad-82b7e770e049",
   "metadata": {},
   "outputs": [
    {
     "data": {
      "text/plain": [
       "'%.3f'"
      ]
     },
     "execution_count": 35,
     "metadata": {},
     "output_type": "execute_result"
    }
   ],
   "source": [
    "%precision 3"
   ]
  },
  {
   "cell_type": "code",
   "execution_count": 36,
   "id": "0871c6b4-01cb-4800-b564-f1960a890f71",
   "metadata": {},
   "outputs": [
    {
     "data": {
      "text/plain": [
       "{'char_count': 131145,\n",
       " 'word_count': 29175,\n",
       " 'sent_count': 3396,\n",
       " 'sybl_count': 35214,\n",
       " 'notdalechall_count': 6839,\n",
       " 'polysyblword_count': 1030,\n",
       " 'flesch_score': 96.004,\n",
       " 'fleschkincaid_score': 2.003,\n",
       " 'gunningfog_score': 4.849,\n",
       " 'smog_score': 6.275,\n",
       " 'dalechall_score': 7.764}"
      ]
     },
     "execution_count": 36,
     "metadata": {},
     "output_type": "execute_result"
    }
   ],
   "source": [
    "readability.dict()"
   ]
  },
  {
   "cell_type": "code",
   "execution_count": 37,
   "id": "3f81e2f3-16eb-4d99-9cc7-7d472b32f5a7",
   "metadata": {},
   "outputs": [],
   "source": [
    "#NAMED ENTITY RECOGNITION WITH spaCy\n",
    "import spacy\n",
    "nlp= spacy.load('en_core_web_sm')"
   ]
  },
  {
   "cell_type": "code",
   "execution_count": 38,
   "id": "9e655752-f368-45a8-a184-aa1552a7ab6d",
   "metadata": {},
   "outputs": [],
   "source": [
    "#creating a spacy document\n",
    "document = nlp('In 1994, Tim Berners-Lee founded the ' +\n",
    "               'World Wide Web Consortium (W3C), devoted to' +\n",
    "               'developing web technologies')"
   ]
  },
  {
   "cell_type": "code",
   "execution_count": 39,
   "id": "0de95e30-15a9-4b65-8ac6-5d83c480332d",
   "metadata": {},
   "outputs": [
    {
     "name": "stdout",
     "output_type": "stream",
     "text": [
      "1994: DATE\n",
      "Tim Berners-Lee: PERSON\n",
      "the World Wide Web Consortium: WORK_OF_ART\n"
     ]
    }
   ],
   "source": [
    "#getting the named entities\n",
    "for entity in document.ents:\n",
    "    print(f'{entity.text}: {entity.label_}')"
   ]
  },
  {
   "cell_type": "code",
   "execution_count": 40,
   "id": "f76fe458-7381-4dcd-9b8d-87c128efbb5e",
   "metadata": {},
   "outputs": [],
   "source": [
    "#COMPARING TWO TEXTS \n",
    "from pathlib import Path\n",
    "from textblob import TextBlob\n",
    "document1 = nlp(Path('RomeoAndJuliet.txt').read_text(encoding= 'utf-8'))\n",
    "document2 = nlp(Path('EdwardTheSecond.txt').read_text(encoding= 'utf-8'))"
   ]
  },
  {
   "cell_type": "code",
   "execution_count": 41,
   "id": "2bcd214b-f223-4c27-8a0d-520bd7bb7046",
   "metadata": {},
   "outputs": [
    {
     "name": "stderr",
     "output_type": "stream",
     "text": [
      "C:\\Users\\ADMIN\\AppData\\Local\\Temp\\ipykernel_10192\\829065171.py:1: UserWarning: [W007] The model you're using has no word vectors loaded, so the result of the Doc.similarity method will be based on the tagger, parser and NER, which may not give useful similarity judgements. This may happen if you're using one of the small models, e.g. `en_core_web_sm`, which don't ship with word vectors and only use context-sensitive tensors. You can always add your own word vectors, or use one of the larger models instead if available.\n",
      "  document1.similarity(document2)\n"
     ]
    },
    {
     "data": {
      "text/plain": [
       "0.954"
      ]
     },
     "execution_count": 41,
     "metadata": {},
     "output_type": "execute_result"
    }
   ],
   "source": [
    "document1.similarity(document2)"
   ]
  },
  {
   "cell_type": "code",
   "execution_count": null,
   "id": "291330cd-5ee7-450f-9e90-a49ca359ec52",
   "metadata": {},
   "outputs": [],
   "source": []
  }
 ],
 "metadata": {
  "kernelspec": {
   "display_name": "Python 3 (ipykernel)",
   "language": "python",
   "name": "python3"
  },
  "language_info": {
   "codemirror_mode": {
    "name": "ipython",
    "version": 3
   },
   "file_extension": ".py",
   "mimetype": "text/x-python",
   "name": "python",
   "nbconvert_exporter": "python",
   "pygments_lexer": "ipython3",
   "version": "3.11.4"
  }
 },
 "nbformat": 4,
 "nbformat_minor": 5
}
